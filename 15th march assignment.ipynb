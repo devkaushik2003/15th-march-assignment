{
 "cells": [
  {
   "cell_type": "code",
   "execution_count": 1,
   "metadata": {},
   "outputs": [
    {
     "name": "stdout",
     "output_type": "stream",
     "text": [
      "this is 15 th march assignment solution\n"
     ]
    }
   ],
   "source": [
    "print(\"this is 15 th march assignment solution\")"
   ]
  },
  {
   "attachments": {},
   "cell_type": "markdown",
   "metadata": {},
   "source": [
    "QD- Explain the following with an example\n",
    "a) Artificial Intelligence\n",
    "b) Machine Learning\n",
    "c) Deep Learning"
   ]
  },
  {
   "attachments": {},
   "cell_type": "markdown",
   "metadata": {},
   "source": [
    "AI - Smart application that perform tasks without human intervention   \n",
    "ex - self driviing cars     \n",
    "ML it provides stats tools to analyze visualize predict model    \n",
    "ex - netflix recommendation system   \n",
    "DL -  it mimics human brain    \n",
    "ex - OBJECT DETEction   "
   ]
  },
  {
   "attachments": {},
   "cell_type": "markdown",
   "metadata": {},
   "source": [
    "what is supervised learning list some examples of supervised learning"
   ]
  },
  {
   "attachments": {},
   "cell_type": "markdown",
   "metadata": {},
   "source": [
    "Supervised learning is a type of machine learning where an algorithm learns from labeled data, where the data consists of input/output pairs. The algorithm is trained to map inputs to outputs based on the training data provided, so that it can generalize to new, unseen inputs and accurately predict the corresponding output.\n",
    "\n",
    "Here are some examples of supervised learning:\n",
    "\n",
    "Classification: The task of assigning a label to a given input. For example, predicting whether an email is spam or not based on its contents, or classifying images of handwritten digits as numbers 0-9.\n",
    "\n",
    "Regression: The task of predicting a numerical value based on input features. For example, predicting the price of a house based on its size, location, and other features."
   ]
  },
  {
   "attachments": {},
   "cell_type": "markdown",
   "metadata": {},
   "source": [
    "Q3- What is unsupervised learning? List some examples of unsupervised learning."
   ]
  },
  {
   "attachments": {},
   "cell_type": "markdown",
   "metadata": {},
   "source": [
    "Unsupervised learning is a type of machine learning where the algorithm is trained on a dataset without any labeled output. Instead, the algorithm tries to find patterns or structure in the data by clustering similar data points or reducing the dimensionality of the data."
   ]
  },
  {
   "attachments": {},
   "cell_type": "markdown",
   "metadata": {},
   "source": [
    "Some examples of unsupervised learning include:\n",
    "\n",
    "Clustering algorithms: These algorithms group similar data points together based on their features. Examples include K-means clustering and hierarchical clustering.\n",
    "\n",
    "Dimensionality reduction algorithms: These algorithms reduce the number of features in a dataset while retaining the important information. Examples include Principal Component Analysis (PCA) and t-distributed Stochastic Neighbor Embedding (t-SNE)."
   ]
  },
  {
   "attachments": {},
   "cell_type": "markdown",
   "metadata": {},
   "source": [
    "Q4- What is the difference between AI, ML, DL, and DS?"
   ]
  },
  {
   "attachments": {},
   "cell_type": "markdown",
   "metadata": {},
   "source": [
    "\n",
    "\n",
    "AI (Artificial Intelligence), ML (Machine Learning), DL (Deep Learning), and DS (Data Science) are all related to the field of computer science, but they are distinct terms with different meanings and applications.\n",
    "\n",
    "AI is a broad term that refers to the development of machines and software that can perform tasks that typically require human intelligence, such as perception, reasoning, learning, and problem-solving.\n",
    "\n",
    "ML is a subfield of AI that involves building algorithms that can learn patterns and relationships in data without being explicitly programmed. ML algorithms can improve their performance over time as they are exposed to more data, making them particularly useful for tasks like image recognition, natural language processing, and predictive analytics.\n",
    "\n",
    "DL is a subset of ML that uses deep neural networks to learn complex representations of data. DL algorithms have revolutionized fields like computer vision, speech recognition, and natural language processing, enabling machines to perform tasks that were previously thought to be exclusive to humans.\n",
    "\n",
    "DS is an interdisciplinary field that involves using scientific methods, algorithms, and systems to extract insights and knowledge from structured and unstructured data. It includes elements of statistics, mathematics, computer science, and domain-specific knowledge to analyze data, communicate findings, and make data-driven decisions.\n",
    "\n",
    "In summary, AI is a broad field that encompasses a range of technologies and applications, while ML is a specific approach to building intelligent machines. DL is a subset of ML that involves using neural networks to learn complex representations of data. DS is a multidisciplinary field that combines statistics, computer science, and domain-specific knowledge to extract insights from data."
   ]
  },
  {
   "attachments": {},
   "cell_type": "markdown",
   "metadata": {},
   "source": [
    "'Q5- What are the main differences between supervised, unsupervised, and semi-supervised learnin*?'"
   ]
  },
  {
   "attachments": {},
   "cell_type": "markdown",
   "metadata": {},
   "source": [
    "Supervised learning uses labeled data to train models, unsupervised learning uses unlabeled data to find patterns, and semi-supervised learning uses a mix of labeled and unlabeled data."
   ]
  },
  {
   "attachments": {},
   "cell_type": "markdown",
   "metadata": {},
   "source": [
    "'Q6- What is train, test and validation split? E=plain the importance of each term.'"
   ]
  },
  {
   "attachments": {},
   "cell_type": "markdown",
   "metadata": {},
   "source": [
    "Train, test, and validation split is a process of dividing a dataset into separate subsets for training, testing, and validating a machine learning model. The training set is used to train the model, the validation set is used to tune model hyperparameters, and the test set is used to evaluate the model's performance on unseen data."
   ]
  },
  {
   "attachments": {},
   "cell_type": "markdown",
   "metadata": {},
   "source": [
    "Q7- How can unsupervised learnin* be used in anomaly detection?'"
   ]
  },
  {
   "attachments": {},
   "cell_type": "markdown",
   "metadata": {},
   "source": [
    "Unsupervised learning can be used in anomaly detection by training a model to learn the normal patterns in a dataset without explicitly labeling anomalies. The model can then use this learned representation to detect instances that deviate significantly from the learned patterns as potential anomalies. Common unsupervised techniques for anomaly detection include clustering, density estimation, and dimensionality reduction methods such as principal component analysis (PCA) and autoencoders."
   ]
  },
  {
   "attachments": {},
   "cell_type": "markdown",
   "metadata": {},
   "source": [
    "'Q8- List down some commonly used supervised learnin* al*orithms and unsupervised learnin*al*orithms.'"
   ]
  },
  {
   "attachments": {},
   "cell_type": "markdown",
   "metadata": {},
   "source": [
    "Supervised Learning Algorithms:\n",
    "\n",
    "Linear regression\n",
    "Logistic regression\n",
    "Decision trees\n",
    "Random forests\n",
    "Support vector machines (SVM)\n",
    "Naive Bayes\n",
    "K-nearest neighbors (KNN)\n",
    "Artificial neural networks (ANN)\n",
    "Unsupervised Learning Algorithms:\n",
    "\n",
    "K-means clustering\n",
    "Hierarchical clustering\n",
    "Principal component analysis (PCA)\n",
    "Autoencoders\n",
    "Gaussian mixture models (GMM)\n",
    "Anomaly detection algorithms (e.g. One-Class SVM)\n",
    "t-SNE (t-distributed stochastic neighbor embedding)"
   ]
  },
  {
   "attachments": {},
   "cell_type": "markdown",
   "metadata": {},
   "source": []
  },
  {
   "attachments": {},
   "cell_type": "markdown",
   "metadata": {},
   "source": []
  },
  {
   "attachments": {},
   "cell_type": "markdown",
   "metadata": {},
   "source": []
  }
 ],
 "metadata": {
  "kernelspec": {
   "display_name": "Python 3",
   "language": "python",
   "name": "python3"
  },
  "language_info": {
   "codemirror_mode": {
    "name": "ipython",
    "version": 3
   },
   "file_extension": ".py",
   "mimetype": "text/x-python",
   "name": "python",
   "nbconvert_exporter": "python",
   "pygments_lexer": "ipython3",
   "version": "3.10.0"
  },
  "orig_nbformat": 4
 },
 "nbformat": 4,
 "nbformat_minor": 2
}
